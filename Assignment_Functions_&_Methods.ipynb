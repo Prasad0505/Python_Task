{
  "nbformat": 4,
  "nbformat_minor": 0,
  "metadata": {
    "colab": {
      "provenance": [],
      "authorship_tag": "ABX9TyMErllyVYIXxB6piAAc8NiJ",
      "include_colab_link": true
    },
    "kernelspec": {
      "name": "python3",
      "display_name": "Python 3"
    },
    "language_info": {
      "name": "python"
    }
  },
  "cells": [
    {
      "cell_type": "markdown",
      "metadata": {
        "id": "view-in-github",
        "colab_type": "text"
      },
      "source": [
        "<a href=\"https://colab.research.google.com/github/Prasad0505/Python_Task/blob/main/Assignment_Functions_%26_Methods.ipynb\" target=\"_parent\"><img src=\"https://colab.research.google.com/assets/colab-badge.svg\" alt=\"Open In Colab\"/></a>"
      ]
    },
    {
      "cell_type": "markdown",
      "source": [
        "Problem 1\n",
        "\n",
        "Write a function which takes the excel column name as an input and returns the\n",
        " corresponding column number. A few examples are :\n",
        "\n",
        "column name = 'J' , column number = 10\n",
        "\n",
        "column name = 'AP' , column number = 42\n",
        "\n",
        "column name = 'AAA', column number = 703"
      ],
      "metadata": {
        "id": "iM_3IBumBc7M"
      }
    },
    {
      "cell_type": "code",
      "execution_count": 3,
      "metadata": {
        "id": "tJEGlvLtA3Px"
      },
      "outputs": [],
      "source": [
        "def get_excel_column_number(column_name):\n",
        "  \n",
        "    result=0\n",
        "    for B in range(len(column_name)):\n",
        "      result=result*26;\n",
        "      result=result+ord(column_name[B])-ord('A')+1;\n",
        "\n",
        "    return result;\n",
        "\n",
        "\n",
        "\n",
        "  "
      ]
    },
    {
      "cell_type": "code",
      "source": [
        "# Check\n",
        "get_excel_column_number('BD')"
      ],
      "metadata": {
        "colab": {
          "base_uri": "https://localhost:8080/"
        },
        "id": "5hzjmQgyBNRM",
        "outputId": "06ea8cf4-b6a4-4bf5-d72d-ae4bab1f7bbd"
      },
      "execution_count": 4,
      "outputs": [
        {
          "output_type": "execute_result",
          "data": {
            "text/plain": [
              "56"
            ]
          },
          "metadata": {},
          "execution_count": 4
        }
      ]
    },
    {
      "cell_type": "code",
      "source": [
        "# Check\n",
        "get_excel_column_number('ALQ')"
      ],
      "metadata": {
        "colab": {
          "base_uri": "https://localhost:8080/"
        },
        "id": "LKDxUg4MBQNS",
        "outputId": "b5e9457d-386a-431b-8676-c7c141e80781"
      },
      "execution_count": 5,
      "outputs": [
        {
          "output_type": "execute_result",
          "data": {
            "text/plain": [
              "1005"
            ]
          },
          "metadata": {},
          "execution_count": 5
        }
      ]
    },
    {
      "cell_type": "markdown",
      "source": [
        "**Problem 2**\n",
        "\n",
        "We evaluate a standard machine learning classification model using various evaluation metrics. A classification model is a model which classifies a given observation or an event to a fixed set of categories. Suppose I train a machine learning model to classify images of cats and dogs. For each image, the machine classifies the image with either a 'Cat' or a 'Dog'. So in essence for each input image, there is a corresponding output by the model. This output can either be a 'Cat' or a 'Dog'.\n",
        "\n",
        "To evaluate such a machine learning model which is trained to classify a given observation with at most two labels, a lot of candidate evaluation metrics are available. Accuracy is one of such evaluation metrics.\n",
        "\n",
        "Accuracy defintion : Suppose you are given 20 input images of cats and dogs. You already know from these images that there are 11 cats and 9 dogs. You train a machine learning model to classify these images into cats and dogs. The machine predicts 9 cats correctly and 8 dogs correctly. The accuracy of the model is then defined as (correctly predicted cats and dogs)/(total cats and dogs). In this case it is (9+8)/(11+9) = 17/20 = 0.85 or 85%. It is a good practice to report the accuracy in percentages\n",
        "\n",
        "You are given two lists each of length 20 : one list contains the actual labels for the images of cats and dogs. The other list contains the predicted labels (by the machine) for the images of cats and dogs.\n",
        "\n",
        "How to read the two lists ? For example for the first image, actual label is Cat and the predicted label is Cat. For the last image, actual label is Dog and the predicted label is Cat. The same index in the two lists corresponds to the same image"
      ],
      "metadata": {
        "id": "DeJd9HmdBY9a"
      }
    },
    {
      "cell_type": "code",
      "source": [
        "actual_labels = ['Cat','Dog','Cat','Cat','Dog','Cat','Dog','Cat','Cat','Cat','Dog','Dog','Cat','Cat','Cat','Dog','Dog','Dog','Cat','Dog']"
      ],
      "metadata": {
        "id": "PSGh0sjzBoXk"
      },
      "execution_count": 6,
      "outputs": []
    },
    {
      "cell_type": "code",
      "source": [
        "predicted_labels = ['Cat','Dog','Cat','Cat','Dog','Cat','Dog','Cat','Dog','Dog','Dog','Dog','Cat','Cat','Cat','Dog','Dog','Dog','Cat','Cat']"
      ],
      "metadata": {
        "id": "8xoEr_hAB9qO"
      },
      "execution_count": 7,
      "outputs": []
    },
    {
      "cell_type": "markdown",
      "source": [
        "**Write a function to calculate the accuracy. This functions takes two lists as inputs and returns the accuracy score in percentage**"
      ],
      "metadata": {
        "id": "Y0rNYahoCeLB"
      }
    },
    {
      "cell_type": "code",
      "source": [
        "def calculate_accuracy(actual, predicted):\n",
        "  '''\n",
        "  This functions calculates the accuracy based on two input lists  '''\n",
        "# Write your code here\n",
        "  zipped_labels=zip(actual,predicted)\n",
        "  correct=['correct' for act,pred in zipped_labels if act==pred]\n",
        "  correct_prediction=len(correct)\n",
        "  total_images=len(actual)\n",
        "  accuracy=round(correct_prediction*100/total_images,2)\n",
        "  return accuracy\n",
        "  "
      ],
      "metadata": {
        "id": "bISBVF2ICjBp"
      },
      "execution_count": 8,
      "outputs": []
    },
    {
      "cell_type": "code",
      "source": [
        "accuracy1=calculate_accuracy(actual_labels,predicted_labels)\n",
        "print(accuracy1)"
      ],
      "metadata": {
        "colab": {
          "base_uri": "https://localhost:8080/"
        },
        "id": "OAMMqMyRRWN6",
        "outputId": "ed667479-6ee4-468a-9fd3-d06035ea06bf"
      },
      "execution_count": 9,
      "outputs": [
        {
          "output_type": "stream",
          "name": "stdout",
          "text": [
            "85.0\n"
          ]
        }
      ]
    },
    {
      "cell_type": "code",
      "source": [
        "# Print the accuracy score for the given lists"
      ],
      "metadata": {
        "id": "C5sMb2zVCpnd"
      },
      "execution_count": 10,
      "outputs": []
    },
    {
      "cell_type": "markdown",
      "source": [
        "Precision for cats is defined as the number of correctly predicted cats divided by the number of predicted cats. Report precision in percentages.\n",
        "\n",
        "Recall for cats is defined as the number of correctly predicted cats divided by the actual number of cats. Report recall in percentages.\n",
        "\n",
        "We can define the same two metrics for dogs as well."
      ],
      "metadata": {
        "id": "IHVq9aioCtc3"
      }
    },
    {
      "cell_type": "markdown",
      "source": [
        "Problem 3\n",
        "\n",
        "Write a Python function which returns the precision and recall for a given input label. Use the same two lists"
      ],
      "metadata": {
        "id": "8v4v8FGBC2fu"
      }
    },
    {
      "cell_type": "code",
      "source": [
        "def precision_recall(label = 'Dog'):\n",
        "  \n",
        "  zipped_labels=zip(actual_labels,predicted_labels)\n",
        "\n",
        "  correct_pred_lables=['correct' for lable1,lable2 in zipped_labels if lable1==lable2 and lable1==label]\n",
        "  number_of_correct_pred=len(correct_pred_lables)\n",
        "  number_of_pred_lable=predicted_labels.count(label)\n",
        "  precision=round(number_of_correct_pred*100/number_of_pred_lable,2)\n",
        "\n",
        "  actual_number_of_label=actual_labels.count(label)\n",
        "  recall=round(number_of_correct_pred*100/actual_number_of_label,2)\n",
        "  return precision,recall\n",
        "\n",
        "\n",
        "dog=precision_recall('Dog')\n",
        "print(dog)"
      ],
      "metadata": {
        "colab": {
          "base_uri": "https://localhost:8080/"
        },
        "id": "x6K_I4yqC08i",
        "outputId": "f1f9f821-a6c4-4c68-cdab-22ade849cfd1"
      },
      "execution_count": 11,
      "outputs": [
        {
          "output_type": "stream",
          "name": "stdout",
          "text": [
            "(80.0, 88.89)\n"
          ]
        }
      ]
    },
    {
      "cell_type": "markdown",
      "source": [
        "Problem 4\n",
        "\n",
        "Write a Python function which takes a sentence and a length value as inputs and returns the counts of those words from the sentence whose length is equal to the provided input length value.\n",
        "\n",
        "Suppose if the input for the length value is 5, it will return the count of all those words which are of length 5"
      ],
      "metadata": {
        "id": "75Buu44aC_M3"
      }
    },
    {
      "cell_type": "code",
      "source": [
        "marvel_quote = \"The world has changed and none of us can go back. All we can do is our best, and sometimes the best that we can do is to start over.\""
      ],
      "metadata": {
        "id": "nHErm0X8DFDy"
      },
      "execution_count": 12,
      "outputs": []
    },
    {
      "cell_type": "code",
      "source": [
        "# Your function below. Make sure to remove the special characters such as full stop and comma.\n",
        "def fixed_length_word_counts(sentence, length=3):\n",
        "  '''\n",
        "  This function returns the count of the words with the given input length\n",
        "  '''\n",
        "  # Your code below\n",
        "  sentence=sentence.replace(',','')\n",
        "  sentence=sentence.replace('.','')\n",
        "  sentence_list=sentence.split(' ')\n",
        "  word_with_given_input=[word for word in sentence_list if len(word)==length]\n",
        "  count_of_words=len(word_with_given_input)\n",
        "  return count_of_words"
      ],
      "metadata": {
        "id": "hJ1hNzTdDHdB"
      },
      "execution_count": 17,
      "outputs": []
    },
    {
      "cell_type": "code",
      "source": [
        "# Check on the sample sentence\n",
        "fixed_length_word_counts(marvel_quote,length=3)"
      ],
      "metadata": {
        "colab": {
          "base_uri": "https://localhost:8080/"
        },
        "id": "yULDMVaEDKQ-",
        "outputId": "707054c4-3673-4bf7-d6c3-ba3a03ee8f40"
      },
      "execution_count": 18,
      "outputs": [
        {
          "output_type": "execute_result",
          "data": {
            "text/plain": [
              "10"
            ]
          },
          "metadata": {},
          "execution_count": 18
        }
      ]
    }
  ]
}