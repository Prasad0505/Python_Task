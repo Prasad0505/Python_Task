{
  "nbformat": 4,
  "nbformat_minor": 0,
  "metadata": {
    "colab": {
      "provenance": [],
      "authorship_tag": "ABX9TyPpYwESjkeQQ6NjZXk4Gmg6",
      "include_colab_link": true
    },
    "kernelspec": {
      "name": "python3",
      "display_name": "Python 3"
    },
    "language_info": {
      "name": "python"
    }
  },
  "cells": [
    {
      "cell_type": "markdown",
      "metadata": {
        "id": "view-in-github",
        "colab_type": "text"
      },
      "source": [
        "<a href=\"https://colab.research.google.com/github/Prasad0505/Python_Task/blob/main/List_Comprehension.ipynb\" target=\"_parent\"><img src=\"https://colab.research.google.com/assets/colab-badge.svg\" alt=\"Open In Colab\"/></a>"
      ]
    },
    {
      "cell_type": "markdown",
      "source": [
        "Problem 1\n",
        "\n",
        "The price of a house depends upon a lot of factors. These factors could be the geography, the area of house, the number of bedrooms in the house, proximity to necessary amenities etc. A simplistic model would assume that the price of a house depends on a single factor let's say area of the house.\n",
        "\n",
        "You are given a dictionary where the keys correspond to the area of a house (in sq. ft) and the value for each key is the price of the house (in lakh ₹) of 6 houses of a certain locality in Bengaluru"
      ],
      "metadata": {
        "id": "6jBtc0EB0mrN"
      }
    },
    {
      "cell_type": "code",
      "execution_count": null,
      "metadata": {
        "id": "cnK8ZalZzv1m"
      },
      "outputs": [],
      "source": [
        "# Dictionary of house area and house prices of 6 houses in \n",
        "house_area_price_dict = {1056 : 39, 2600 : 120 , 1520 : 95, 1200 : 50, 2700 : 200, 1100 : 40}"
      ]
    },
    {
      "cell_type": "markdown",
      "source": [
        "The values of this dictionary are actual prices.\n",
        "\n",
        " You want to make a simple model which takes the house area as input and outputs the predicted price.\n",
        "This model can be written as : predicted_price(area) = 0.05*area + 10\n",
        "Using the concept of list comprehension, create a list of predicted house prices using the above formula"
      ],
      "metadata": {
        "id": "U6GWu4HZ2r98"
      }
    },
    {
      "cell_type": "code",
      "source": [
        "# Create a list of house areas\n",
        "house_areas = list(house_area_price_dict.keys())\n",
        "\n",
        "\n",
        "# Use list comprehension to store the predicted house prices in a list\n",
        "predicted_house_prices = [0.05*area+10 for area in house_areas]\n",
        "\n",
        "# Print the list of predicted house prices\n",
        "print(predicted_house_prices)"
      ],
      "metadata": {
        "colab": {
          "base_uri": "https://localhost:8080/"
        },
        "id": "jw4Nw_nV2iLe",
        "outputId": "86e775a9-4f92-4eb9-c349-5bf10ec8bcc6"
      },
      "execution_count": null,
      "outputs": [
        {
          "output_type": "stream",
          "name": "stdout",
          "text": [
            "[62.800000000000004, 140.0, 86.0, 70.0, 145.0, 65.0]\n"
          ]
        }
      ]
    },
    {
      "cell_type": "markdown",
      "source": [
        "Create another list which contains the squares of differences of each element of the two price lists : the actual prices and the predicted prices"
      ],
      "metadata": {
        "id": "Eiz89gAUJZm9"
      }
    },
    {
      "cell_type": "code",
      "source": [
        "# List of actual house prices\n",
        "actual_house_prices=list(house_area_price_dict.values())\n",
        "\n",
        "# Zip the two price lists together\n",
        "prices=list(zip(predicted_house_prices,actual_house_prices))\n",
        "\n",
        "\n",
        "# List of squared differences between each element of the two lists using list comprehension\n",
        "squared_difference_in_prices = [(i-j)**2 for i,j in prices]\n",
        "print(squared_difference_in_prices)"
      ],
      "metadata": {
        "colab": {
          "base_uri": "https://localhost:8080/"
        },
        "id": "uJzto5m1JYJR",
        "outputId": "2df5dda9-f9ab-4838-aed9-0376600fe9f1"
      },
      "execution_count": null,
      "outputs": [
        {
          "output_type": "stream",
          "name": "stdout",
          "text": [
            "[566.4400000000002, 400.0, 81.0, 400.0, 3025.0, 625.0]\n"
          ]
        }
      ]
    },
    {
      "cell_type": "markdown",
      "source": [
        "Problem 2\n",
        "\n",
        "A sigmoid function is a mathematical function having a characteristic \"S\"-shaped curve or sigmoid curve. A common example of a sigmoid function is the logistic function shown in the first figure and defined by the formula:"
      ],
      "metadata": {
        "id": "z0Hu8qUlOtiT"
      }
    },
    {
      "cell_type": "markdown",
      "source": [
        "Range is defined as all the possible values which the function  can take. Domain is defined as all the possible values which  can take. In this case, range of the function is between 0 to 1 and the domain of the function is all real numbers"
      ],
      "metadata": {
        "id": "bjzn0x2uOzlJ"
      }
    },
    {
      "cell_type": "markdown",
      "source": [
        "You are given a list of values of . You need to use list comprehension to calculate the corresponding transformation according to the sigmoid function defined above"
      ],
      "metadata": {
        "id": "w0if1m8wPbPa"
      }
    },
    {
      "cell_type": "code",
      "source": [
        "# List of the values of x \n",
        "\n",
        "x = [3, 9, 10, -4, -2, 1, 0, 4, 5, 7]\n",
        "e=2.718\n",
        "\n",
        "\n",
        "# Calculate the corresponding sigmoid functions values using list comprehension. Take the value of e = 2.718\n",
        "sigmoid_of_x = [(1/1+(e)**-i) for i in x]\n",
        "print(sigmoid_of_x)"
      ],
      "metadata": {
        "colab": {
          "base_uri": "https://localhost:8080/"
        },
        "id": "J7VtOXz1Plry",
        "outputId": "b0b31a86-eb70-4d4a-d0d4-6545a0a588c5"
      },
      "execution_count": null,
      "outputs": [
        {
          "output_type": "stream",
          "name": "stdout",
          "text": [
            "[1.049802557184333, 1.0001235250187352, 1.0000454470267606, 55.575510850575995, 8.387523999999999, 1.3679175864606328, 2.0, 1.0183232366388275, 1.0067414410003044, 1.0009125440405073]\n"
          ]
        }
      ]
    },
    {
      "cell_type": "code",
      "source": [
        "# Return a list of boolean values if the sigmoid_of_x is greater than 0 and less than 1\n",
        "boolean_values=[bool(x) for x in sigmoid_of_x if x>0 and x<1]\n",
        "print(boolean_values)\n",
        "\n",
        "\n",
        "# Create a list of those values which are greater than 0.5\n",
        "greater_then_5=[x for x in sigmoid_of_x if x>0.5]\n",
        "print(greater_then_5)"
      ],
      "metadata": {
        "colab": {
          "base_uri": "https://localhost:8080/"
        },
        "id": "W3hFS9H6QMdo",
        "outputId": "77fe75c8-d105-4154-b54c-f9b918a53957"
      },
      "execution_count": null,
      "outputs": [
        {
          "output_type": "stream",
          "name": "stdout",
          "text": [
            "[]\n",
            "[1.049802557184333, 1.0001235250187352, 1.0000454470267606, 55.575510850575995, 8.387523999999999, 1.3679175864606328, 2.0, 1.0183232366388275, 1.0067414410003044, 1.0009125440405073]\n"
          ]
        }
      ]
    },
    {
      "cell_type": "markdown",
      "source": [
        "**Problem 3**\n",
        "\n",
        "**You are given a sentence : \"I have been walking and running and dancing and smiling and laughing all my life, yet it all seems pointless.\"\n",
        "You are required to extract all those words from this sentence in a list which ends with ing**"
      ],
      "metadata": {
        "id": "om3FyAu8TcmN"
      }
    },
    {
      "cell_type": "code",
      "source": [
        "# Your sentence\n",
        "my_sentence = \"I have been walking and running and dancing and smiling and laughing all my life, yet it all seems pointless.\"\n",
        "my_sen=my_sentence.split()\n",
        "my_sen"
      ],
      "metadata": {
        "colab": {
          "base_uri": "https://localhost:8080/"
        },
        "id": "5yFi6ycs5MHa",
        "outputId": "fb4ada86-7512-4f37-c10a-32266752cb4d"
      },
      "execution_count": 3,
      "outputs": [
        {
          "output_type": "execute_result",
          "data": {
            "text/plain": [
              "['I',\n",
              " 'have',\n",
              " 'been',\n",
              " 'walking',\n",
              " 'and',\n",
              " 'running',\n",
              " 'and',\n",
              " 'dancing',\n",
              " 'and',\n",
              " 'smiling',\n",
              " 'and',\n",
              " 'laughing',\n",
              " 'all',\n",
              " 'my',\n",
              " 'life,',\n",
              " 'yet',\n",
              " 'it',\n",
              " 'all',\n",
              " 'seems',\n",
              " 'pointless.']"
            ]
          },
          "metadata": {},
          "execution_count": 3
        }
      ]
    },
    {
      "cell_type": "code",
      "source": [
        "# Using list comprehension, extract those words which ends with ing\n",
        "\n",
        "my_sen=my_sentence.split()\n",
        "print(my_sen)\n",
        "\n",
        "\n",
        "# Words ending with ing\n",
        "words_ending_with_ing = [i for i in my_sen if i[-3:]=='ing']\n",
        "\n",
        "\n",
        "# Print those words\n",
        "print(words_ending_with_ing)"
      ],
      "metadata": {
        "colab": {
          "base_uri": "https://localhost:8080/"
        },
        "id": "xJV8i4il5Xte",
        "outputId": "8b01b330-5322-4a5b-e499-7c48ba852d6f"
      },
      "execution_count": 8,
      "outputs": [
        {
          "output_type": "stream",
          "name": "stdout",
          "text": [
            "['I', 'have', 'been', 'walking', 'and', 'running', 'and', 'dancing', 'and', 'smiling', 'and', 'laughing', 'all', 'my', 'life,', 'yet', 'it', 'all', 'seems', 'pointless.']\n",
            "['walking', 'running', 'dancing', 'smiling', 'laughing']\n"
          ]
        }
      ]
    },
    {
      "cell_type": "markdown",
      "source": [
        "**Problem 4**\n",
        "\n",
        "Natural Language Processing or NLP is one of the most promising fields in Machine Learning. Most of the times in NLP we deal with the textual data (a bunch of strings). Sometimes when we are processing the text, it is a common practice to get rid of some set of stop words from our original text. By default stop words are very common words used in English language such as and, or, punctuations etc.\n",
        "In this exercise, you are provided with a default set of stop words and you need to add some extra set of custom words and remove these words from the given sentence and obtain the sentence without the stop words"
      ],
      "metadata": {
        "id": "fWgHdjBT7juK"
      }
    },
    {
      "cell_type": "code",
      "source": [
        "# A sample sentence \n",
        "\n",
        "sentence = 'Hello, good morning folks! Today we will announce the half yearly performance results of the company. Due to the ongoing COVID-19 pandemic, our profits have declined by 60% as compared to the last year'\n",
        "\n",
        "# Print your sentence\n",
        "print(sentence)"
      ],
      "metadata": {
        "colab": {
          "base_uri": "https://localhost:8080/"
        },
        "id": "dZ23oJ3q7giq",
        "outputId": "64e95a32-8818-400e-b3ff-b8da9360a3a3"
      },
      "execution_count": 9,
      "outputs": [
        {
          "output_type": "stream",
          "name": "stdout",
          "text": [
            "Hello, good morning folks! Today we will announce the half yearly performance results of the company. Due to the ongoing COVID-19 pandemic, our profits have declined by 60% as compared to the last year\n"
          ]
        }
      ]
    },
    {
      "cell_type": "code",
      "source": [
        "# Default set of stop words \n",
        "stop_words = {\"i\", \"me\", \"my\", \"myself\", \"we\", \"our\", \"ours\", \"ourselves\", \"you\", \"your\", \"yours\", \"yourself\", \n",
        "              \"yourselves\", \"he\", \"him\", \"his\", \"himself\", \"she\", \"her\", \"hers\", \"herself\", \"it\", \"its\", \"itself\",\n",
        "              \"they\", \"them\", \"their\", \"theirs\", \"themselves\", \"what\", \"which\", \"who\", \"whom\", \"this\", \"that\",\n",
        "              \"these\", \"those\", \"am\", \"is\", \"are\", \"was\", \"were\", \"be\", \"been\", \"being\", \"have\", \"has\", \"had\",\n",
        "              \"having\", \"do\", \"does\", \"did\", \"doing\", \"a\", \"an\", \"the\", \"and\", \"but\", \"if\", \"or\", \"because\",\n",
        "              \"as\", \"until\", \"while\", \"of\", \"at\", \"by\", \"for\", \"with\", \"about\", \"against\", \"between\", \"into\",\n",
        "              \"through\", \"during\", \"before\", \"after\", \"above\", \"below\", \"to\", \"from\", \"up\", \"down\", \"in\", \"out\", \n",
        "              \"on\", \"off\", \"over\", \"under\", \"again\", \"further\", \"then\", \"once\", \"here\", \"there\", \"when\", \"where\",\n",
        "              \"why\", \"how\", \"all\", \"any\", \"both\", \"each\", \"few\", \"more\", \"most\", \"other\", \"some\", \"such\", \"no\",\n",
        "              \"nor\", \"not\", \"only\", \"own\", \"same\", \"so\", \"than\", \"too\", \"very\", \"s\", \"t\", \"can\", \"will\", \"just\",\n",
        "              \"don\", \"should\", \"now\"}"
      ],
      "metadata": {
        "id": "kCwlGhC471ma"
      },
      "execution_count": 10,
      "outputs": []
    },
    {
      "cell_type": "code",
      "source": [
        "# Update the set of stop words by adding the custom stop words\n",
        "custom_stop_words = [\"hello\",\"good\",\"morning\",\"half\",\"year\"]\n",
        "\n",
        "# Your code here\n",
        "stop_words.update(custom_stop_words)\n",
        "a=list(stop_words)\n",
        "# Print the stop words in a sorted manner\n",
        "print(sorted(a))"
      ],
      "metadata": {
        "colab": {
          "base_uri": "https://localhost:8080/"
        },
        "id": "g9KLaTvG761S",
        "outputId": "98eb45a8-9206-4b9a-9bf0-4ddaa847d5a5"
      },
      "execution_count": 19,
      "outputs": [
        {
          "output_type": "stream",
          "name": "stdout",
          "text": [
            "['a', 'about', 'above', 'after', 'again', 'against', 'all', 'am', 'an', 'and', 'any', 'are', 'as', 'at', 'be', 'because', 'been', 'before', 'being', 'below', 'between', 'both', 'but', 'by', 'can', 'did', 'do', 'does', 'doing', 'don', 'down', 'during', 'each', 'few', 'for', 'from', 'further', 'good', 'had', 'half', 'has', 'have', 'having', 'he', 'hello', 'her', 'here', 'hers', 'herself', 'him', 'himself', 'his', 'how', 'i', 'if', 'in', 'into', 'is', 'it', 'its', 'itself', 'just', 'me', 'more', 'morning', 'most', 'my', 'myself', 'no', 'nor', 'not', 'now', 'of', 'off', 'on', 'once', 'only', 'or', 'other', 'our', 'ours', 'ourselves', 'out', 'over', 'own', 's', 'same', 'she', 'should', 'so', 'some', 'such', 't', 'than', 'that', 'the', 'their', 'theirs', 'them', 'themselves', 'then', 'there', 'these', 'they', 'this', 'those', 'through', 'to', 'too', 'under', 'until', 'up', 'very', 'was', 'we', 'were', 'what', 'when', 'where', 'which', 'while', 'who', 'whom', 'why', 'will', 'with', 'year', 'you', 'your', 'yours', 'yourself', 'yourselves']\n"
          ]
        }
      ]
    },
    {
      "cell_type": "code",
      "source": [
        "# Create the list of words in the given sentence\n",
        "words_in_sentence = sentence.split(\" \")"
      ],
      "metadata": {
        "id": "TLhoBLnI-MnE"
      },
      "execution_count": 20,
      "outputs": []
    },
    {
      "cell_type": "code",
      "source": [
        "# Use list comprehension to remove the set of updated stop words from the list of words\n",
        "list1=[ i for i in words_in_sentence if i not in stop_words ]\n",
        "print(list1)"
      ],
      "metadata": {
        "colab": {
          "base_uri": "https://localhost:8080/"
        },
        "id": "N7tWXpb5-RSR",
        "outputId": "d49bef7e-fc71-47dd-8c5d-0df50e6e74ca"
      },
      "execution_count": 22,
      "outputs": [
        {
          "output_type": "stream",
          "name": "stdout",
          "text": [
            "['Hello,', 'folks!', 'Today', 'announce', 'yearly', 'performance', 'results', 'company.', 'Due', 'ongoing', 'COVID-19', 'pandemic,', 'profits', 'declined', '60%', 'compared', 'last']\n"
          ]
        }
      ]
    },
    {
      "cell_type": "code",
      "source": [
        "# Finally using the join() method, get the sentence without the stop words. Keep in mind that every word in the sentence will be separated by space\n",
        "print(\" \".join(list1))\n",
        "\n",
        "# Print the modified sentence"
      ],
      "metadata": {
        "colab": {
          "base_uri": "https://localhost:8080/"
        },
        "id": "LcIIbiiJ-UxQ",
        "outputId": "7f22a358-7e27-4430-a40c-92153f5c3ccb"
      },
      "execution_count": 23,
      "outputs": [
        {
          "output_type": "stream",
          "name": "stdout",
          "text": [
            "Hello, folks! Today announce yearly performance results company. Due ongoing COVID-19 pandemic, profits declined 60% compared last\n"
          ]
        }
      ]
    }
  ]
}