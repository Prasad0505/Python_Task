{
  "nbformat": 4,
  "nbformat_minor": 0,
  "metadata": {
    "colab": {
      "provenance": [],
      "authorship_tag": "ABX9TyOsHgHtBm9J5GCUv9y/MjUq",
      "include_colab_link": true
    },
    "kernelspec": {
      "name": "python3",
      "display_name": "Python 3"
    },
    "language_info": {
      "name": "python"
    }
  },
  "cells": [
    {
      "cell_type": "markdown",
      "metadata": {
        "id": "view-in-github",
        "colab_type": "text"
      },
      "source": [
        "<a href=\"https://colab.research.google.com/github/Prasad0505/Python_Task/blob/main/Assignment_Production_Grade_Programming_I.ipynb\" target=\"_parent\"><img src=\"https://colab.research.google.com/assets/colab-badge.svg\" alt=\"Open In Colab\"/></a>"
      ]
    },
    {
      "cell_type": "markdown",
      "source": [
        "\n",
        "Problem 1\n",
        "\n",
        "Create a class Cylinder which takes two attributes radius and height.\n",
        "Create the following methods in this class:\n",
        "\n",
        "method volume() which calculates the volume of the cyinder which is defined as\n",
        "V=3.14*r*2*h \n",
        "method surface_area() which calculates the area of the cyinder which is defined as \n",
        "S=2*3.14*r*h\n",
        ". Assume this is an open cylinder"
      ],
      "metadata": {
        "id": "qYYSdbFBW3kD"
      }
    },
    {
      "cell_type": "code",
      "execution_count": 14,
      "metadata": {
        "id": "WL9fbbgsV2jR"
      },
      "outputs": [],
      "source": [
        "# Write your code below. Take pi as 3.14\n",
        "class Cylinder:\n",
        "   def __init__(self,radius=1,height=1):\n",
        "     self.radius=radius\n",
        "     self.height=height\n",
        "     self.volume=3.14*(radius**2)*height\n",
        "     self.area=2*3.14*(self.radius)*(self.height)\n",
        "  \n",
        "   def setNew(self,new_radius,new_height):\n",
        "     self.radius=new_radius\n",
        "     self.height=new_height\n",
        "     self.volume=3.14*(new_radius*2)*new_height\n",
        "     self.area=2*3.14*new_radius*new_height\n",
        "\n",
        "\n",
        "\n"
      ]
    },
    {
      "cell_type": "code",
      "source": [],
      "metadata": {
        "id": "KRtBPrvyeXPh"
      },
      "execution_count": null,
      "outputs": []
    },
    {
      "cell_type": "code",
      "source": [
        "c=Cylinder()"
      ],
      "metadata": {
        "id": "4PCoCNQhcSSd"
      },
      "execution_count": 15,
      "outputs": []
    },
    {
      "cell_type": "code",
      "source": [
        "c.volume"
      ],
      "metadata": {
        "colab": {
          "base_uri": "https://localhost:8080/"
        },
        "id": "0IfAh9hJcW6R",
        "outputId": "a21a9fe2-f954-4625-d5ac-849a3ba343c7"
      },
      "execution_count": 16,
      "outputs": [
        {
          "output_type": "execute_result",
          "data": {
            "text/plain": [
              "3.14"
            ]
          },
          "metadata": {},
          "execution_count": 16
        }
      ]
    },
    {
      "cell_type": "code",
      "source": [
        "c.area"
      ],
      "metadata": {
        "colab": {
          "base_uri": "https://localhost:8080/"
        },
        "id": "pC-NKZV_chU-",
        "outputId": "df9d16cd-a303-45d6-96b6-9ef446087a0e"
      },
      "execution_count": 17,
      "outputs": [
        {
          "output_type": "execute_result",
          "data": {
            "text/plain": [
              "6.28"
            ]
          },
          "metadata": {},
          "execution_count": 17
        }
      ]
    },
    {
      "cell_type": "markdown",
      "source": [
        "Problem 2\n",
        "\n",
        "You started your own money wallet where your customers can create their accounts and they can either deposit or withdraw money from this wallet.\n",
        "\n",
        "Write a Python class BankAccount which takes the balance as an attribute. You can initialize the balance with 0 because any new account will have 0 rupees in their wallet. Next write two methods for your class :\n",
        "\n",
        "withdraw() method which takes the amount to be withdrawn as an argument and returns the balance after the withdrawal\n",
        "\n",
        "deposit() method which takes the amount to be deposited as an argument and returns the balance after the deposit.\n",
        "\n",
        "Keep in mind that if the balance to be withdrawn exceeds the current balance, it should display a message that \"Not enough balance in your account\""
      ],
      "metadata": {
        "id": "iSBXpjK1hMTY"
      }
    },
    {
      "cell_type": "code",
      "source": [
        "# Write your BankAccount class below \n",
        "\n",
        "class BankAccount:\n",
        "       def __init__(self,balance=0) -> None:\n",
        "          self.balance=balance\n",
        "           \n",
        "       def withdraw(self,amount):\n",
        "          if self.balance>=amount:\n",
        "            self.balance=self.balance-amount\n",
        "            return self.balance\n",
        "          else:\n",
        "             print(\"Not enough balance in your account\")\n",
        "       def deposit(self,amount):\n",
        "           self.balance+=amount\n",
        "           return self.balance"
      ],
      "metadata": {
        "id": "17Hainplfwyj"
      },
      "execution_count": 19,
      "outputs": []
    },
    {
      "cell_type": "code",
      "source": [
        "user=BankAccount()\n",
        "user.deposit(1000)"
      ],
      "metadata": {
        "colab": {
          "base_uri": "https://localhost:8080/"
        },
        "id": "4W5CGD9fjkE0",
        "outputId": "cd6a6520-5733-43b4-fe29-07ebabd2c9d9"
      },
      "execution_count": 20,
      "outputs": [
        {
          "output_type": "execute_result",
          "data": {
            "text/plain": [
              "1000"
            ]
          },
          "metadata": {},
          "execution_count": 20
        }
      ]
    },
    {
      "cell_type": "code",
      "source": [
        "user.withdraw(500)"
      ],
      "metadata": {
        "colab": {
          "base_uri": "https://localhost:8080/"
        },
        "id": "USze5Nz3jym3",
        "outputId": "31054060-8c58-4344-e0a9-1c5ec94474b6"
      },
      "execution_count": 21,
      "outputs": [
        {
          "output_type": "execute_result",
          "data": {
            "text/plain": [
              "500"
            ]
          },
          "metadata": {},
          "execution_count": 21
        }
      ]
    },
    {
      "cell_type": "markdown",
      "source": [
        "Problem 3\n",
        "\n",
        "Create a class Time  which takes two inputs hours and minutes to instantiate.\n",
        "Construct a method DisplayTime() which displays the time in AM/PM formats. For example if the input is 14 hours and 45 mins, then this method will print \"The time is 2:45 PM\". If the inputted hours exceeds 23 then print the message \"The input hours should be less than 24\" and if the inputted minutes exceeds 59 then print the message \"The input minutes should be less than 60.\" Also if the input is 12 hours 30 minutes, then the displayed time would be 12:30 PM\n",
        "\n",
        "Construct a method DisplayRatio() which should display the ratio of minutes to hours. For example, (8 hours and 16 mins) should display 2. Use try, except block to account for ZeroDivisionError."
      ],
      "metadata": {
        "id": "qm7HpZ6dkLfF"
      }
    },
    {
      "cell_type": "code",
      "source": [
        "class Time:\n",
        "    def __init__(self,hours,minute):\n",
        "      self.hours=hours\n",
        "      self.minute=minute\n",
        "\n",
        "    def DisplayTime(self,hours,minute):\n",
        "        if self.hours>23 or self.minute>59:\n",
        "          if 23<self.hours:\n",
        "            print(\"The input hours should be less than 24.\")\n",
        "          else:\n",
        "             print(\"The input minute should be less than 60.\")\n",
        "\n",
        "        else:\n",
        "           if self.hours>11:\n",
        "              a= self.hours-12\n",
        "              print(f\"The time is{a}:{self.minute}PM\")\n",
        "\n",
        "           else:\n",
        "              print(f\"The time is{self.hours}:{self.minute}AM\")\n",
        "\n",
        "\n",
        "   \n",
        "\n",
        "    def DisplayRatio(self):\n",
        "        if self.hours>23 or self.minute>59:\n",
        "          if 23<self.hours:\n",
        "            print(\"The input hours should be less than 24.\")\n",
        "          else:\n",
        "             print(\"The input minute should be less than 60.\")\n",
        "\n",
        "        else:\n",
        "           if self.hours>11:\n",
        "              a= self.hours-12\n",
        "              print(f\"The time is{a}:{self.minute}PM\")\n",
        "\n",
        "           else:\n",
        "              try:\n",
        "                 print(f\"The ratio is{round((self.minute)/(self.hours),2)}\")\n",
        "              except ZeroDivisionError as ZE:\n",
        "                  print(\"The error is :\",ZE)"
      ],
      "metadata": {
        "id": "W5h2ataukO7d"
      },
      "execution_count": 2,
      "outputs": []
    },
    {
      "cell_type": "code",
      "source": [
        "hours_min_list=[(23,45),(34,50),(12,34),(14,67)]\n",
        "for i in hours_min_list:\n",
        "  c=Time(i[0][1])\n",
        "  c.DisplayTime()"
      ],
      "metadata": {
        "colab": {
          "base_uri": "https://localhost:8080/",
          "height": 217
        },
        "id": "flfHVWp3n4ct",
        "outputId": "f558024f-ef63-499b-875c-f7c9d91e66e4"
      },
      "execution_count": 3,
      "outputs": [
        {
          "output_type": "error",
          "ename": "TypeError",
          "evalue": "ignored",
          "traceback": [
            "\u001b[0;31m---------------------------------------------------------------------------\u001b[0m",
            "\u001b[0;31mTypeError\u001b[0m                                 Traceback (most recent call last)",
            "\u001b[0;32m<ipython-input-3-df81a74cb116>\u001b[0m in \u001b[0;36m<module>\u001b[0;34m\u001b[0m\n\u001b[1;32m      1\u001b[0m \u001b[0mhours_min_list\u001b[0m\u001b[0;34m=\u001b[0m\u001b[0;34m[\u001b[0m\u001b[0;34m(\u001b[0m\u001b[0;36m23\u001b[0m\u001b[0;34m,\u001b[0m\u001b[0;36m45\u001b[0m\u001b[0;34m)\u001b[0m\u001b[0;34m,\u001b[0m\u001b[0;34m(\u001b[0m\u001b[0;36m34\u001b[0m\u001b[0;34m,\u001b[0m\u001b[0;36m50\u001b[0m\u001b[0;34m)\u001b[0m\u001b[0;34m,\u001b[0m\u001b[0;34m(\u001b[0m\u001b[0;36m12\u001b[0m\u001b[0;34m,\u001b[0m\u001b[0;36m34\u001b[0m\u001b[0;34m)\u001b[0m\u001b[0;34m,\u001b[0m\u001b[0;34m(\u001b[0m\u001b[0;36m14\u001b[0m\u001b[0;34m,\u001b[0m\u001b[0;36m67\u001b[0m\u001b[0;34m)\u001b[0m\u001b[0;34m]\u001b[0m\u001b[0;34m\u001b[0m\u001b[0;34m\u001b[0m\u001b[0m\n\u001b[1;32m      2\u001b[0m \u001b[0;32mfor\u001b[0m \u001b[0mi\u001b[0m \u001b[0;32min\u001b[0m \u001b[0mhours_min_list\u001b[0m\u001b[0;34m:\u001b[0m\u001b[0;34m\u001b[0m\u001b[0;34m\u001b[0m\u001b[0m\n\u001b[0;32m----> 3\u001b[0;31m   \u001b[0mc\u001b[0m\u001b[0;34m=\u001b[0m\u001b[0mTime\u001b[0m\u001b[0;34m(\u001b[0m\u001b[0mi\u001b[0m\u001b[0;34m[\u001b[0m\u001b[0;36m0\u001b[0m\u001b[0;34m]\u001b[0m\u001b[0;34m[\u001b[0m\u001b[0;36m1\u001b[0m\u001b[0;34m]\u001b[0m\u001b[0;34m)\u001b[0m\u001b[0;34m\u001b[0m\u001b[0;34m\u001b[0m\u001b[0m\n\u001b[0m\u001b[1;32m      4\u001b[0m   \u001b[0mc\u001b[0m\u001b[0;34m.\u001b[0m\u001b[0mDisplayTime\u001b[0m\u001b[0;34m(\u001b[0m\u001b[0;34m)\u001b[0m\u001b[0;34m\u001b[0m\u001b[0;34m\u001b[0m\u001b[0m\n",
            "\u001b[0;31mTypeError\u001b[0m: 'int' object is not subscriptable"
          ]
        }
      ]
    }
  ]
}