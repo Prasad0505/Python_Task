{
  "nbformat": 4,
  "nbformat_minor": 0,
  "metadata": {
    "colab": {
      "provenance": [],
      "authorship_tag": "ABX9TyN1Ap/LIdOgEWWQjVkP4YFW",
      "include_colab_link": true
    },
    "kernelspec": {
      "name": "python3",
      "display_name": "Python 3"
    },
    "language_info": {
      "name": "python"
    }
  },
  "cells": [
    {
      "cell_type": "markdown",
      "metadata": {
        "id": "view-in-github",
        "colab_type": "text"
      },
      "source": [
        "<a href=\"https://colab.research.google.com/github/Prasad0505/Python_Task/blob/main/Assignment_Statements%2C_Indentation_and_Conditionals.ipynb\" target=\"_parent\"><img src=\"https://colab.research.google.com/assets/colab-badge.svg\" alt=\"Open In Colab\"/></a>"
      ]
    },
    {
      "cell_type": "markdown",
      "source": [
        "While doing this assignment only use those concepts which have been taught till now\n",
        "\n",
        "Problem 1\n",
        "As an analyst, you had to present the quarterly performance results of your client. The data which you were provided was on daily basis. To complete this task, you needed to extract the quarter from a given date. For example:\n",
        "if the date lies between 1st Jan, 2020 - 31st March, 2020, you need to extract the corresponding quarter as '2020-Q1'\n",
        "\n",
        "\n",
        "if the date lies between 1st April, 2020 - 30th June, 2020, the extracted quarter will be '2020-Q2'\n",
        "\n",
        "if the date lies between 1st July, 2020 - 30th September, 2020, the extracted quarter will be '2020-Q3'\n",
        "\n",
        "if the date lies between 1st October, 2020 - 31st Decemeber, 2020 then the extracted quarter will be '2020-Q4'"
      ],
      "metadata": {
        "id": "xvhiLXoVVWPl"
      }
    },
    {
      "cell_type": "code",
      "source": [
        "# Take a proper date input from the user in the format YYYY-MM-DD. Consider this date as a string\n",
        "user_date = input(str(\"Enter the date in YYYY-MM-DD format:\"))"
      ],
      "metadata": {
        "colab": {
          "base_uri": "https://localhost:8080/"
        },
        "id": "EhosXwCpVb9p",
        "outputId": "c6b63127-1c02-4f78-94ec-f8cb0eb32a4f"
      },
      "execution_count": 1,
      "outputs": [
        {
          "name": "stdout",
          "output_type": "stream",
          "text": [
            "Enter the date in YYYY-MM-DD format:2022-05-07\n"
          ]
        }
      ]
    },
    {
      "cell_type": "code",
      "source": [
        "date_year=int(user_date[0:4])\n",
        "str(date_year)\n",
        "date_month=int(user_date[5:7])\n",
        "quater=''\n",
        "if date_month<=3:\n",
        "                                   quater=str(date_year)+'-Q1'\n",
        "elif date_month>3 and date_month<=6:\n",
        "                                   quater=str(date_year)+'-Q2'\n",
        "elif date_month>6 and date_month<=9:\n",
        "                                   quater=str(date_year)+'-Q3'\n",
        "elif date_month>9 and date_month<=12:\n",
        "                                   quater=str(date_year)+'-Q4'\n",
        "\n",
        "\n",
        "print(quater)\n"
      ],
      "metadata": {
        "colab": {
          "base_uri": "https://localhost:8080/"
        },
        "id": "9jSb-5ejWZbh",
        "outputId": "0edf7360-62e5-4331-c3c8-c4a0d10e723f"
      },
      "execution_count": 9,
      "outputs": [
        {
          "output_type": "stream",
          "name": "stdout",
          "text": [
            "2022-Q2\n"
          ]
        }
      ]
    },
    {
      "cell_type": "markdown",
      "source": [
        "Problem 2\n",
        "\n",
        "You went out in your local neighbourhood to collect the data of people residing in the locale. You surveyed 5 people and collected some data and stored that in a dictionary. You recorded their names, their age, their sex, their heights(in cms) and their weights(in kgs)"
      ],
      "metadata": {
        "id": "X_bnTzJGaMaX"
      }
    },
    {
      "cell_type": "code",
      "source": [
        "# Surveyed data \n",
        "\n",
        "locality_data = {'Name' : ['Abhinav','Sohail','Dheeraj','Rashmi','Vaishali'],\n",
        "                  'Age' : [42,29,35,28,32],\n",
        "                  'Sex' : ['Male', 'Male','Male','Female','Female'] , \n",
        "                  'Height' : [172,175,170,168,170],\n",
        "                  'Weight' : [70,82,60,55,64]\n",
        "                 }"
      ],
      "metadata": {
        "id": "aLWA-rYKaQD9"
      },
      "execution_count": 10,
      "outputs": []
    },
    {
      "cell_type": "code",
      "source": [
        "# Calculate the mean height and print it\n",
        "mean_height=sum(locality_data['Height'])/len(locality_data['Height'])\n",
        "\n",
        "print(mean_height)\n",
        "# Calculate the median height and print it\n",
        "lenght_height=len(locality_data['Height'])\n",
        "sorted_height=sorted(locality_data['Height'])\n",
        "median_height=(sorted_height[int(lenght_height/2)-1])\n",
        "print(median_height)\n",
        "\n",
        "# Calculate the mean weight and print it\n",
        "\n",
        "mean_weight=sum(locality_data['Weight'])/len(locality_data['Weight'])\n",
        "print(mean_weight)\n",
        "\n",
        "# Calculate the median weight and print it\n",
        "lenght_weight=len(locality_data['Weight'])\n",
        "sorted_weight=sorted(locality_data['Weight'])\n",
        "median_weight=(sorted_weight[int(lenght_weight/2)-1])\n",
        "print(median_weight)"
      ],
      "metadata": {
        "colab": {
          "base_uri": "https://localhost:8080/"
        },
        "id": "Z823QTj6alIe",
        "outputId": "05bc3006-dcb2-4698-9c5d-b135e3d17a03"
      },
      "execution_count": 16,
      "outputs": [
        {
          "output_type": "stream",
          "name": "stdout",
          "text": [
            "171.0\n",
            "170\n",
            "66.2\n",
            "60\n"
          ]
        }
      ]
    },
    {
      "cell_type": "code",
      "source": [
        "# Python code to print the first three elements for the key 'Age'\n",
        "\n",
        "ages = locality_data['Age'][0:3]\n",
        "ages"
      ],
      "metadata": {
        "colab": {
          "base_uri": "https://localhost:8080/"
        },
        "id": "ig5vJ9Llpb3z",
        "outputId": "03a9aba4-92e4-46bd-bbbb-3570a9d3c73a"
      },
      "execution_count": 19,
      "outputs": [
        {
          "output_type": "execute_result",
          "data": {
            "text/plain": [
              "[42, 29, 35]"
            ]
          },
          "metadata": {},
          "execution_count": 19
        }
      ]
    },
    {
      "cell_type": "markdown",
      "source": [
        "**Write a Python code to print the last two elements of the name list if the list of values corresponding to the key 'Name' contains the element 'Rashmi' else print 'Name not found'**\n"
      ],
      "metadata": {
        "id": "gJE7pgaFqRKD"
      }
    },
    {
      "cell_type": "code",
      "source": [
        "if 'Rashmi' in locality_data['Name']:  \n",
        "   c= locality_data['Name'][3:5]\n",
        "   print(c)\n",
        "else:\n",
        "    print(\"Name Not Found\")\n",
        "\n"
      ],
      "metadata": {
        "colab": {
          "base_uri": "https://localhost:8080/"
        },
        "id": "0c8cjhZPqKUz",
        "outputId": "565de227-9c20-4521-cad9-994b5f605398"
      },
      "execution_count": 22,
      "outputs": [
        {
          "output_type": "stream",
          "name": "stdout",
          "text": [
            "['Rashmi', 'Vaishali']\n"
          ]
        }
      ]
    },
    {
      "cell_type": "markdown",
      "source": [
        "Problem 3\n",
        "\n",
        "A student will not be allowed to sit in exam if his/her attendence is less than 75%.\n",
        "\n",
        "Take following input from user\n",
        "\n",
        "Number of classes held\n",
        "Number of classes attended."
      ],
      "metadata": {
        "id": "eyO_Riy7sXLq"
      }
    },
    {
      "cell_type": "code",
      "source": [
        "# Enter your input\n",
        "\n",
        "print(\"Number of classes held:\")\n",
        "classes_held = int(input())\n",
        "\n",
        "print(\"Number of classes attended:\")\n",
        "classes_attended = int(input())"
      ],
      "metadata": {
        "colab": {
          "base_uri": "https://localhost:8080/"
        },
        "id": "DoL4orRxsafd",
        "outputId": "25e8a141-729b-4968-8626-792e718fdbcd"
      },
      "execution_count": 25,
      "outputs": [
        {
          "name": "stdout",
          "output_type": "stream",
          "text": [
            "Number of classes held:\n",
            "10\n",
            "Number of classes attended:\n",
            "5\n"
          ]
        }
      ]
    },
    {
      "cell_type": "code",
      "source": [
        "# Calculate the attendance percentage\n",
        "attendance = classes_attended*100/classes_held\n",
        "\n",
        "print(f'The attendance is {attendance} %')"
      ],
      "metadata": {
        "colab": {
          "base_uri": "https://localhost:8080/"
        },
        "id": "pEATFdKmsrx-",
        "outputId": "2d5d58ed-77c9-4ab6-dd88-0ff8f7ec8314"
      },
      "execution_count": 28,
      "outputs": [
        {
          "output_type": "stream",
          "name": "stdout",
          "text": [
            "The attendance is 50.0 %\n"
          ]
        }
      ]
    },
    {
      "cell_type": "markdown",
      "source": [
        "And print the following statements based on the condition above\n",
        "\n",
        "percentage of class attended\n",
        "\n",
        "Is student is allowed to sit in exam or not."
      ],
      "metadata": {
        "id": "WkYyl41EtIoa"
      }
    },
    {
      "cell_type": "code",
      "source": [
        "if attendance<75:\n",
        "  print('Student is not allowed to sit in Exam')\n",
        "else:\n",
        "  print('Student is allowed to sit in Exam') "
      ],
      "metadata": {
        "colab": {
          "base_uri": "https://localhost:8080/"
        },
        "id": "HswU6S51tGBk",
        "outputId": "4ab369e0-0d1b-400a-a1b8-f996acda28a0"
      },
      "execution_count": 30,
      "outputs": [
        {
          "output_type": "stream",
          "name": "stdout",
          "text": [
            "Student is not allowed to sit in Exam\n"
          ]
        }
      ]
    },
    {
      "cell_type": "markdown",
      "source": [
        "Problem 4\n",
        "\n",
        "A school has following rules for grading system:\n",
        "Below 25 - F\n",
        "\n",
        "25 to 45 - E\n",
        "\n",
        "45 to 50 - D\n",
        "\n",
        "50 to 60 - C\n",
        "\n",
        "60 to 80 - B\n",
        "\n",
        "Above 80 - A\n",
        "\n",
        "Keep the left number inclusive and the right number exclusive, something like [25,45) for grade E where the set is closed at 25 and open at 45.\n",
        "\n",
        "Write a Python code which takes marks as inputs from the user and print the corresponding grade."
      ],
      "metadata": {
        "id": "wuLHU49mt-EW"
      }
    },
    {
      "cell_type": "code",
      "source": [
        "# Your input here \n",
        "print(\"Enter your marks\")\n",
        "marks = int(input())"
      ],
      "metadata": {
        "colab": {
          "base_uri": "https://localhost:8080/"
        },
        "id": "fd8zt78QuJTp",
        "outputId": "09f29dce-00f1-457b-e063-a68593cbbded"
      },
      "execution_count": 31,
      "outputs": [
        {
          "name": "stdout",
          "output_type": "stream",
          "text": [
            "Enter your marks\n",
            "45\n"
          ]
        }
      ]
    },
    {
      "cell_type": "code",
      "source": [
        "if marks<=25:\n",
        "    print(\"F\")\n",
        "elif marks>25 and marks<=45:\n",
        "    print(\"E\")\n",
        "elif marks>45 and marks<=50:\n",
        "    print(\"D\")\n",
        "elif marks>50 and marks<=60:\n",
        "    print(\"C\")\n",
        "elif marks>60 and marks<=80:\n",
        "    print(\"B\")\n",
        "elif marks>80:\n",
        "    print(\"A\")"
      ],
      "metadata": {
        "colab": {
          "base_uri": "https://localhost:8080/"
        },
        "id": "5F0G_o0Lufu2",
        "outputId": "fb6a5448-8d8d-44f3-e60b-c38583c0cf9d"
      },
      "execution_count": 33,
      "outputs": [
        {
          "output_type": "stream",
          "name": "stdout",
          "text": [
            "E\n"
          ]
        }
      ]
    }
  ]
}