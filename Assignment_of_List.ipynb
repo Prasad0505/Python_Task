{
  "nbformat": 4,
  "nbformat_minor": 0,
  "metadata": {
    "colab": {
      "provenance": [],
      "authorship_tag": "ABX9TyMX1vXX/guSLQ1Diwiom7D3",
      "include_colab_link": true
    },
    "kernelspec": {
      "name": "python3",
      "display_name": "Python 3"
    },
    "language_info": {
      "name": "python"
    }
  },
  "cells": [
    {
      "cell_type": "markdown",
      "metadata": {
        "id": "view-in-github",
        "colab_type": "text"
      },
      "source": [
        "<a href=\"https://colab.research.google.com/github/Prasad0505/Python_Task/blob/main/Assignment_of_List.ipynb\" target=\"_parent\"><img src=\"https://colab.research.google.com/assets/colab-badge.svg\" alt=\"Open In Colab\"/></a>"
      ]
    },
    {
      "cell_type": "code",
      "execution_count": null,
      "metadata": {
        "id": "c7I3rXmoJExm"
      },
      "outputs": [],
      "source": []
    },
    {
      "cell_type": "markdown",
      "source": [
        "Problem 1:\n",
        "\n",
        "A list contains the average daily temperature(in degree Celsius) of a city over a particular week. Write a Python code to swap the highest and the lowest temperatures"
      ],
      "metadata": {
        "id": "vQSAvgs5LCsn"
      }
    },
    {
      "cell_type": "code",
      "source": [
        "\n",
        "temperatures = [34, 40, 29, 33, 42, 37, 39 ]\n",
        "#Max_temp\n",
        "max_temp =max(temperatures)\n",
        "\n",
        "max_temp_index=temperatures.index(max_temp)\n"
      ],
      "metadata": {
        "id": "DB3oJSPeLFf_"
      },
      "execution_count": null,
      "outputs": []
    },
    {
      "cell_type": "code",
      "source": [
        "# Store the lowest temperature \n",
        "min_temp = min(temperatures)\n",
        "\n",
        "# Index of the element with the lowest temperature\n",
        "min_temp_index=temperatures.index(min_temp)"
      ],
      "metadata": {
        "id": "rr34c-tdNqha"
      },
      "execution_count": null,
      "outputs": []
    },
    {
      "cell_type": "code",
      "source": [
        "#swapping the lowest and highest temprature\n",
        "\n",
        "temperatures[max_temp_index]=min_temp\n",
        "\n",
        "temperatures[min_temp_index]=max_temp\n",
        "print(temperatures)"
      ],
      "metadata": {
        "colab": {
          "base_uri": "https://localhost:8080/"
        },
        "id": "GdlSueR-ON6p",
        "outputId": "7dcc50f3-cdf1-4933-f70a-e1c9ba235b41"
      },
      "execution_count": null,
      "outputs": [
        {
          "output_type": "stream",
          "name": "stdout",
          "text": [
            "[34, 40, 42, 33, 29, 37, 39]\n"
          ]
        }
      ]
    },
    {
      "cell_type": "markdown",
      "source": [
        "Problem 2\n",
        "\n",
        "Measures of Averages\n",
        "\n",
        "Mean of a group is defined as the sum of the elements in the group divided by the number of elements in the group.\n",
        "\n",
        "Median is the middle number in a sorted, ascending or descending, list of numbers. If the list has  numbers where  is odd, then median is the element in the middle i.e, element. If  is even, then median is the mean of \n",
        " \n",
        " \n",
        " and \n",
        " \n",
        " elements"
      ],
      "metadata": {
        "id": "kSyjLVUeTcpF"
      }
    },
    {
      "cell_type": "code",
      "source": [
        "# List of product prices\n",
        "\n",
        "prod_price_list = [400, 250, 800, 550, 600, 820, 720, 15000, 360,250]"
      ],
      "metadata": {
        "id": "PrVNfmCJT4VT"
      },
      "execution_count": null,
      "outputs": []
    },
    {
      "cell_type": "code",
      "source": [
        "mean1=sum(prod_price_list)/len(prod_price_list)\n",
        "mean1"
      ],
      "metadata": {
        "colab": {
          "base_uri": "https://localhost:8080/"
        },
        "id": "NmLY_1ojUGux",
        "outputId": "5b6afb82-650e-4198-e16d-2498b65a48de"
      },
      "execution_count": null,
      "outputs": [
        {
          "output_type": "execute_result",
          "data": {
            "text/plain": [
              "1975.0"
            ]
          },
          "metadata": {},
          "execution_count": 19
        }
      ]
    },
    {
      "cell_type": "code",
      "source": [
        "# Step 1 - Obtain the sorted list. Print the sorted_prices\n",
        "prod_price_list.sort()\n",
        "print(prod_price_list)"
      ],
      "metadata": {
        "colab": {
          "base_uri": "https://localhost:8080/"
        },
        "id": "uC60rvDwVE2B",
        "outputId": "c6724544-af04-4759-a898-e014412ded9b"
      },
      "execution_count": null,
      "outputs": [
        {
          "output_type": "stream",
          "name": "stdout",
          "text": [
            "[250, 250, 360, 400, 550, 600, 720, 800, 820, 15000]\n"
          ]
        }
      ]
    },
    {
      "cell_type": "code",
      "source": [
        "# Check if the number of elements in the list is even or odd\n",
        "if len(prod_price_list)%2==0:\n",
        "                              print(\"Even\")\n",
        "else:\n",
        "                              print(\"odd\")"
      ],
      "metadata": {
        "colab": {
          "base_uri": "https://localhost:8080/"
        },
        "id": "dCQCoPKWWp0M",
        "outputId": "480c2493-d67c-40d3-9239-a647908b5340"
      },
      "execution_count": null,
      "outputs": [
        {
          "output_type": "stream",
          "name": "stdout",
          "text": [
            "Even\n"
          ]
        }
      ]
    },
    {
      "cell_type": "code",
      "source": [
        "num=len(prod_price_list)/2\n",
        "num1=int(num)\n",
        "ele1=prod_price_list[num1]\n",
        "ele2=prod_price_list[num1-1]\n",
        "\n",
        "median=(ele1+ele2)/2\n",
        "median"
      ],
      "metadata": {
        "colab": {
          "base_uri": "https://localhost:8080/"
        },
        "id": "vGXHSkorXSPD",
        "outputId": "9f9dbfbe-5ab9-44e4-cbc0-b7982ae6159b"
      },
      "execution_count": null,
      "outputs": [
        {
          "output_type": "execute_result",
          "data": {
            "text/plain": [
              "575.0"
            ]
          },
          "metadata": {},
          "execution_count": 40
        }
      ]
    },
    {
      "cell_type": "markdown",
      "source": [
        "Why do you think that is the case??\n",
        "\n",
        "Write your explanation in this text cell\n",
        "Your explanation :\n",
        "\n",
        "Problem 3\n",
        "Having a nested list sometimes might be a bit problematic. An individual was asked to collect the names of companies in the technology sector. While creating the list, by mistake the last three companies were subsumed in a list as shown below. You are required to get rid of the nesting"
      ],
      "metadata": {
        "id": "Y04exWoAbTt_"
      }
    },
    {
      "cell_type": "code",
      "source": [
        "# The list of tech companies curated by the individual\n",
        "tech_companies = ['Qualcomm','Google','Apple',['Nvidia','Cisco','Samsung']]\n",
        "\n",
        "# The final list that we want\n",
        "# correct_tech_companies = ['Qualcomm','Google','Apple','Nvidia','Cisco','Samsung']"
      ],
      "metadata": {
        "id": "iFpmAWTAbUZe"
      },
      "execution_count": null,
      "outputs": []
    },
    {
      "cell_type": "code",
      "source": [
        "list2=[]\n",
        "list2=tech_companies[3][0:3]\n",
        "list2\n",
        "tech_companies.pop(3)\n",
        "print(tech_companies+list2)\n"
      ],
      "metadata": {
        "colab": {
          "base_uri": "https://localhost:8080/"
        },
        "id": "dr9MoYC1bYmi",
        "outputId": "895aca34-a17f-4530-b861-b17ad136cea4"
      },
      "execution_count": null,
      "outputs": [
        {
          "output_type": "stream",
          "name": "stdout",
          "text": [
            "['Qualcomm', 'Google', 'Apple', 'Nvidia', 'Cisco', 'Samsung']\n"
          ]
        }
      ]
    }
  ]
}