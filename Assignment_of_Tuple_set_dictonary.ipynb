{
  "nbformat": 4,
  "nbformat_minor": 0,
  "metadata": {
    "colab": {
      "provenance": [],
      "authorship_tag": "ABX9TyM4n1cITlUsfzANujGCxMls",
      "include_colab_link": true
    },
    "kernelspec": {
      "name": "python3",
      "display_name": "Python 3"
    },
    "language_info": {
      "name": "python"
    }
  },
  "cells": [
    {
      "cell_type": "markdown",
      "metadata": {
        "id": "view-in-github",
        "colab_type": "text"
      },
      "source": [
        "<a href=\"https://colab.research.google.com/github/Prasad0505/Python_Task/blob/main/Assignment_of_Tuple_set_dictonary.ipynb\" target=\"_parent\"><img src=\"https://colab.research.google.com/assets/colab-badge.svg\" alt=\"Open In Colab\"/></a>"
      ]
    },
    {
      "cell_type": "markdown",
      "source": [
        "While doing this assignment only use those concepts which have been taught till now\n",
        "Problem 1\n",
        "\n",
        "Another measure of average\n",
        "\n",
        "Mode is defined as the value that appears most often in a set of data values. Mode corresponds to the most frequent value.\n",
        "\n",
        "You are given a list of numbers and you need to calculate the mode of this list"
      ],
      "metadata": {
        "id": "r8H3jVDKRyS_"
      }
    },
    {
      "cell_type": "code",
      "execution_count": 1,
      "metadata": {
        "colab": {
          "base_uri": "https://localhost:8080/",
          "height": 35
        },
        "id": "OluH_9bYQubM",
        "outputId": "49301822-3f32-4cd6-e442-32066c1b5005"
      },
      "outputs": [
        {
          "output_type": "execute_result",
          "data": {
            "text/plain": [
              "'[34, 40, 29, 33, 42, 40, 39, 34, 34, 33]'"
            ],
            "application/vnd.google.colaboratory.intrinsic+json": {
              "type": "string"
            }
          },
          "metadata": {},
          "execution_count": 1
        }
      ],
      "source": [
        "# A list containing average daily temperature over 10 days\n",
        "temperatures = [34, 40, 29, 33, 42, 40, 39, 34, 34,33 ]\n",
        "str(temperatures)"
      ]
    },
    {
      "cell_type": "code",
      "source": [
        "# Step 1 : Find the unique set of values. Store this in a list\n",
        "unique_temperatures =[]\n",
        "for i in temperatures:\n",
        "                      if i not in unique_temperatures:\n",
        "                                                unique_temperatures.append(i)\n",
        "\n",
        "\n",
        "\n",
        "unique_temperatures\n",
        "\n",
        "\n",
        "\n",
        "\n"
      ],
      "metadata": {
        "colab": {
          "base_uri": "https://localhost:8080/"
        },
        "id": "tUkR3NrjSoIF",
        "outputId": "21004fb5-a0a0-4996-ab9c-3220e211e25b"
      },
      "execution_count": 2,
      "outputs": [
        {
          "output_type": "execute_result",
          "data": {
            "text/plain": [
              "[34, 40, 29, 33, 42, 39]"
            ]
          },
          "metadata": {},
          "execution_count": 2
        }
      ]
    },
    {
      "cell_type": "code",
      "source": [
        "# Step 2 : Create an empty dictionary which will contain the unique temperatures as keys and their counts in the original temperatures list as values\n",
        "temp_dict = {}\n",
        "\n",
        "# Set the values for each key separately\n",
        "# First key\n",
        "temp_dict={unique_temperatures[0]:temperatures.count(unique_temperatures[0])}\n",
        "\n",
        "\n",
        "# Second key\n",
        "temp_dict.update({unique_temperatures[1]:temperatures.count(unique_temperatures[1])})\n",
        "\n",
        "\n",
        "# Third key\n",
        "temp_dict.update({unique_temperatures[2]:temperatures.count(unique_temperatures[2])})\n",
        "\n",
        "\n",
        "# Fourth key\n",
        "\n",
        "temp_dict.update({unique_temperatures[3]:temperatures.count(unique_temperatures[3])})\n",
        "\n",
        "# Fifth key\n",
        "temp_dict.update({unique_temperatures[4]:temperatures.count(unique_temperatures[4])})\n",
        "\n",
        "\n",
        "# Sixth key\n",
        "temp_dict.update({unique_temperatures[5]:temperatures.count(unique_temperatures[5])})\n",
        "\n",
        "print(temp_dict)"
      ],
      "metadata": {
        "id": "G_l82052tLqt",
        "colab": {
          "base_uri": "https://localhost:8080/"
        },
        "outputId": "13e434de-16b0-4b3a-c214-d1310727f6b7"
      },
      "execution_count": 3,
      "outputs": [
        {
          "output_type": "stream",
          "name": "stdout",
          "text": [
            "{34: 3, 40: 2, 29: 1, 33: 2, 42: 1, 39: 1}\n"
          ]
        }
      ]
    },
    {
      "cell_type": "code",
      "source": [
        "list1=list(temp_dict.values())\n",
        "print(list1)\n",
        "max_count=max(list1)\n",
        "max_index=list1.index(max_count)\n",
        "print(max_index)"
      ],
      "metadata": {
        "colab": {
          "base_uri": "https://localhost:8080/"
        },
        "id": "nlP-BVrbtXp7",
        "outputId": "1e1d6d23-7de3-477b-a6d9-3e952f0baa86"
      },
      "execution_count": 4,
      "outputs": [
        {
          "output_type": "stream",
          "name": "stdout",
          "text": [
            "[3, 2, 1, 2, 1, 1]\n",
            "0\n"
          ]
        }
      ]
    },
    {
      "cell_type": "code",
      "source": [
        "temp_dict_keys=list(temp_dict.keys())\n",
        "mode_temp=temp_dict_keys[max_index]\n",
        "print(mode_temp)"
      ],
      "metadata": {
        "colab": {
          "base_uri": "https://localhost:8080/"
        },
        "id": "sXCdZRbmvlpy",
        "outputId": "fff84e2d-3e00-47e0-86eb-12f254110bae"
      },
      "execution_count": 5,
      "outputs": [
        {
          "output_type": "stream",
          "name": "stdout",
          "text": [
            "34\n"
          ]
        }
      ]
    },
    {
      "cell_type": "markdown",
      "source": [
        "Problem 2\n",
        "\n",
        "Challenging the immutability of tuples\n",
        "You are given a list of tuples. You need to replace the last element of the last tuple"
      ],
      "metadata": {
        "id": "cqtVtkoNwVZ1"
      }
    },
    {
      "cell_type": "code",
      "source": [
        "# Input list of tuples\n",
        "\n",
        "list_of_tuples = [(10,20,30),(30,40,50),(50,60,70)]\n",
        "list_of_tuples[2]\n",
        "\n",
        "\n",
        "# Expected output : Replace the last element 70 with 100\n",
        "# output_list = [(10,20,30),(30,40,50),(50,60,100)]"
      ],
      "metadata": {
        "colab": {
          "base_uri": "https://localhost:8080/"
        },
        "id": "4oQVRYNXwZCJ",
        "outputId": "e02cfaa7-8c2c-4fad-ee84-4c7d900d54bd"
      },
      "execution_count": 6,
      "outputs": [
        {
          "output_type": "execute_result",
          "data": {
            "text/plain": [
              "(50, 60, 70)"
            ]
          },
          "metadata": {},
          "execution_count": 6
        }
      ]
    },
    {
      "cell_type": "code",
      "source": [
        "list1=list(list_of_tuples[2])\n",
        "list1[2]=100\n",
        "list1\n",
        "tuple1=tuple(list1)\n",
        "list_of_tuples[2]=tuple1\n",
        "list_of_tuples"
      ],
      "metadata": {
        "colab": {
          "base_uri": "https://localhost:8080/"
        },
        "id": "ZQ1Z-W7D_URp",
        "outputId": "281f806c-71b0-4351-cc03-be7afc0854a6"
      },
      "execution_count": 13,
      "outputs": [
        {
          "output_type": "execute_result",
          "data": {
            "text/plain": [
              "[(10, 20, 30), (30, 40, 50), (50, 60, 100)]"
            ]
          },
          "metadata": {},
          "execution_count": 13
        }
      ]
    },
    {
      "cell_type": "markdown",
      "source": [
        "Problem 3\n",
        "\n",
        "Natural Language Processing or NLP is one of the most promising fields in Machine Learning. Most of the times in NLP we deal with the textual data (a bunch of strings). Sometimes when we are processing the text, it is a common practice to get rid of some set of stop words from our original text. By default stop words are very common words used in English language such as and, or, punctuations etc.\n",
        "\n",
        "\n",
        "In this exercise, you are provided with a default set of stop words and you need to add some extra set of custom words."
      ],
      "metadata": {
        "id": "nUW5riL2BKpI"
      }
    },
    {
      "cell_type": "code",
      "source": [
        "# A sample sentence \n",
        "\n",
        "sentence = 'Hello, good morning folks! Today we will announce the half yearly performance results of the company. Due to the ongoing COVID-19 pandemic, our profits have declined by 60% as compared to the last half yearly results'\n",
        "\n",
        "# Print your sentence"
      ],
      "metadata": {
        "id": "M2GUW2SkBKI1"
      },
      "execution_count": 14,
      "outputs": []
    },
    {
      "cell_type": "code",
      "source": [
        "# Default set of stop words \n",
        "stop_words = {\"i\", \"me\", \"my\", \"myself\", \"we\", \"our\", \"ours\", \"ourselves\", \"you\", \"your\", \"yours\", \"yourself\", \n",
        "              \"yourselves\", \"he\", \"him\", \"his\", \"himself\", \"she\", \"her\", \"hers\", \"herself\", \"it\", \"its\", \"itself\",\n",
        "              \"they\", \"them\", \"their\", \"theirs\", \"themselves\", \"what\", \"which\", \"who\", \"whom\", \"this\", \"that\",\n",
        "              \"these\", \"those\", \"am\", \"is\", \"are\", \"was\", \"were\", \"be\", \"been\", \"being\", \"have\", \"has\", \"had\",\n",
        "              \"having\", \"do\", \"does\", \"did\", \"doing\", \"a\", \"an\", \"the\", \"and\", \"but\", \"if\", \"or\", \"because\",\n",
        "              \"as\", \"until\", \"while\", \"of\", \"at\", \"by\", \"for\", \"with\", \"about\", \"against\", \"between\", \"into\",\n",
        "              \"through\", \"during\", \"before\", \"after\", \"above\", \"below\", \"to\", \"from\", \"up\", \"down\", \"in\", \"out\", \n",
        "              \"on\", \"off\", \"over\", \"under\", \"again\", \"further\", \"then\", \"once\", \"here\", \"there\", \"when\", \"where\",\n",
        "              \"why\", \"how\", \"all\", \"any\", \"both\", \"each\", \"few\", \"more\", \"most\", \"other\", \"some\", \"such\", \"no\",\n",
        "              \"nor\", \"not\", \"only\", \"own\", \"same\", \"so\", \"than\", \"too\", \"very\", \"s\", \"t\", \"can\", \"will\", \"just\",\n",
        "              \"don\", \"should\", \"now\"}"
      ],
      "metadata": {
        "id": "b9n2sSG9ETS8"
      },
      "execution_count": 17,
      "outputs": []
    },
    {
      "cell_type": "code",
      "source": [
        "# Update the set of stop words by adding the custom stop words\n",
        "custom_stop_words = [\"hello\",\"good\",\"morning\",\"half\",\"yearly\"]\n",
        "\n",
        "# Your code here\n",
        "stop_words.update(custom_stop_words)\n",
        "\n",
        "# Print the updated stop words\n",
        "print(stop_words)"
      ],
      "metadata": {
        "colab": {
          "base_uri": "https://localhost:8080/"
        },
        "id": "7MGWdBXkOR2T",
        "outputId": "bc0b8e77-5848-4d9e-83f3-877c5b6234cf"
      },
      "execution_count": 19,
      "outputs": [
        {
          "output_type": "stream",
          "name": "stdout",
          "text": [
            "{'can', 'same', 'over', 'do', 'a', 'with', 'myself', 'being', 'our', 'during', 'more', 'ourselves', 'you', 'itself', 'how', 'here', 'this', 'half', 'your', 'up', 'his', 'has', 'have', 'he', 'too', 'yourself', 'of', 'other', 'i', 'its', 'if', 'further', 'but', 'hello', 'those', 'as', 'against', 'by', 'does', 'to', 'they', 'because', 'are', 'where', 'am', 'himself', 'which', 'through', 'it', 'until', 'very', 'be', 'all', 'about', 'were', 'these', 'any', 'an', 'doing', 'yours', 'some', 'down', 'once', 'on', 'only', 'now', 'why', 'few', 'above', 'at', 'both', 'who', 'from', 'we', 'morning', 'should', 'did', 'good', 'such', 'the', 'after', 'off', 'into', 'own', 'their', 'than', 'me', 'then', 'whom', 'before', 'don', 'yearly', 'herself', 's', 'themselves', 'between', 'and', 'so', 'she', 'most', 'what', 'having', 'yourselves', 'that', 'them', 'no', 'when', 'is', 'out', 'ours', 'had', 'there', 'was', 'below', 'hers', 'under', 'while', 'or', 'just', 'not', 'her', 'theirs', 'each', 'in', 'been', 'nor', 'again', 't', 'my', 'for', 'him', 'will'}\n"
          ]
        }
      ]
    },
    {
      "cell_type": "code",
      "source": [
        "up=list(stop_words)+custom_stop_words\n",
        "print(set(up))"
      ],
      "metadata": {
        "colab": {
          "base_uri": "https://localhost:8080/"
        },
        "id": "fjunwe7XOwG0",
        "outputId": "e39eaa6c-d958-4319-9b00-ea6dd7e640c2"
      },
      "execution_count": 20,
      "outputs": [
        {
          "output_type": "stream",
          "name": "stdout",
          "text": [
            "{'can', 'same', 'over', 'do', 'a', 'with', 'myself', 'being', 'our', 'during', 'more', 'ourselves', 'you', 'itself', 'how', 'here', 'this', 'half', 'your', 'up', 'his', 'has', 'have', 'he', 'too', 'yourself', 'of', 'other', 'i', 'its', 'if', 'further', 'but', 'hello', 'those', 'as', 'against', 'by', 'does', 'to', 'they', 'because', 'are', 'where', 'am', 'himself', 'which', 'through', 'it', 'until', 'very', 'be', 'all', 'about', 'were', 'these', 'any', 'an', 'doing', 'yours', 'some', 'down', 'once', 'on', 'only', 'now', 'why', 'few', 'above', 'at', 'both', 'who', 'from', 'we', 'morning', 'should', 'did', 'good', 'such', 'the', 'after', 'off', 'into', 'own', 'their', 'than', 'me', 'then', 'whom', 'before', 'don', 'yearly', 'herself', 's', 'themselves', 'between', 'and', 'so', 'she', 'most', 'what', 'having', 'yourselves', 'that', 'them', 'no', 'when', 'is', 'out', 'ours', 'had', 'there', 'was', 'below', 'hers', 'under', 'while', 'or', 'just', 'not', 'her', 'theirs', 'each', 'in', 'been', 'nor', 'again', 't', 'my', 'for', 'him', 'will'}\n"
          ]
        }
      ]
    },
    {
      "cell_type": "markdown",
      "source": [
        "Problem 4\n",
        "\n",
        "Write a Python script to check whether a given key already exists in a dictionary. If it does, drop that key from the dictionary. If it does not, add that key and corresponding value to the dictionary"
      ],
      "metadata": {
        "id": "UvWws7TRPZjg"
      }
    },
    {
      "cell_type": "code",
      "source": [
        "# Your dictionary\n",
        "employee_dict = {'Name':'Sanket','Skills':['Python','Machine Learning','Deep Learning'],'Band':6.0,\n",
        "                 'Promotion Year':[2016,2018,2020]}"
      ],
      "metadata": {
        "id": "WBXOI7UXPcu1"
      },
      "execution_count": 27,
      "outputs": []
    },
    {
      "cell_type": "code",
      "source": [
        "# Check if the key 'Employee_ID' is present in the dictionary. Hint : use a boolean variable to store this value\n",
        "if 'emp_id' in employee_dict:\n",
        "                breakpoint\n",
        "else:\n",
        "     employee_dict.update({'emp_id':45678909})\n",
        "\n",
        "# If not present add this key to this dictionary and the corresponding value to be 4503233\n",
        "employee_dict"
      ],
      "metadata": {
        "colab": {
          "base_uri": "https://localhost:8080/"
        },
        "id": "KimqYgXfPxZY",
        "outputId": "57dfc942-33bf-4217-84a8-ab4fbc29891e"
      },
      "execution_count": 28,
      "outputs": [
        {
          "output_type": "execute_result",
          "data": {
            "text/plain": [
              "{'Name': 'Sanket',\n",
              " 'Skills': ['Python', 'Machine Learning', 'Deep Learning'],\n",
              " 'Band': 6.0,\n",
              " 'Promotion Year': [2016, 2018, 2020],\n",
              " 'emp_id': 45678909}"
            ]
          },
          "metadata": {},
          "execution_count": 28
        }
      ]
    },
    {
      "cell_type": "code",
      "source": [
        "'Band' in employee_dict\n",
        "\n",
        "del employee_dict['Band']\n",
        "\n",
        "employee_dict"
      ],
      "metadata": {
        "colab": {
          "base_uri": "https://localhost:8080/"
        },
        "id": "xlHdzWCfRGMe",
        "outputId": "5e7f31a5-340d-4be3-e049-f98a20ab25c7"
      },
      "execution_count": 29,
      "outputs": [
        {
          "output_type": "execute_result",
          "data": {
            "text/plain": [
              "{'Name': 'Sanket',\n",
              " 'Skills': ['Python', 'Machine Learning', 'Deep Learning'],\n",
              " 'Promotion Year': [2016, 2018, 2020],\n",
              " 'emp_id': 45678909}"
            ]
          },
          "metadata": {},
          "execution_count": 29
        }
      ]
    },
    {
      "cell_type": "code",
      "source": [],
      "metadata": {
        "id": "6upr1lbPSNqQ"
      },
      "execution_count": null,
      "outputs": []
    }
  ]
}