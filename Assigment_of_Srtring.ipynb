{
  "nbformat": 4,
  "nbformat_minor": 0,
  "metadata": {
    "colab": {
      "provenance": [],
      "authorship_tag": "ABX9TyPE4eiQ4/TpOxm5WWLalVcj",
      "include_colab_link": true
    },
    "kernelspec": {
      "name": "python3",
      "display_name": "Python 3"
    },
    "language_info": {
      "name": "python"
    }
  },
  "cells": [
    {
      "cell_type": "markdown",
      "metadata": {
        "id": "view-in-github",
        "colab_type": "text"
      },
      "source": [
        "<a href=\"https://colab.research.google.com/github/Prasad0505/Python_Task/blob/main/Assigment_of_Srtring.ipynb\" target=\"_parent\"><img src=\"https://colab.research.google.com/assets/colab-badge.svg\" alt=\"Open In Colab\"/></a>"
      ]
    },
    {
      "cell_type": "code",
      "execution_count": null,
      "metadata": {
        "id": "nELyx9yCxhW3"
      },
      "outputs": [],
      "source": []
    },
    {
      "cell_type": "markdown",
      "source": [
        "Find the number of words in the given sentence.\n",
        "\n"
      ],
      "metadata": {
        "id": "15JqMgJ4x2RK"
      }
    },
    {
      "cell_type": "code",
      "source": [
        "\n",
        "# Store the given sentence in a variable\n",
        "sentence = \"Wikipedia is a free online encyclopedia, created and edited by volunteers around the world and hosted by the Wikimedia Foundation.\"\n",
        "num_of_words=len(sentence.split())\n",
        "print(num_of_words)"
      ],
      "metadata": {
        "colab": {
          "base_uri": "https://localhost:8080/"
        },
        "id": "mjnrbp58x7Df",
        "outputId": "6cb850e9-2551-43c1-a82f-400e760fd931"
      },
      "execution_count": null,
      "outputs": [
        {
          "output_type": "stream",
          "name": "stdout",
          "text": [
            "20\n"
          ]
        }
      ]
    },
    {
      "cell_type": "code",
      "source": [
        "sentence.split()"
      ],
      "metadata": {
        "colab": {
          "base_uri": "https://localhost:8080/"
        },
        "id": "KHW8CXNzzCsd",
        "outputId": "6f350861-45c2-4e6d-a2bb-0aba3b4e2edb"
      },
      "execution_count": null,
      "outputs": [
        {
          "output_type": "execute_result",
          "data": {
            "text/plain": [
              "['Wikipedia',\n",
              " 'is',\n",
              " 'a',\n",
              " 'free',\n",
              " 'online',\n",
              " 'encyclopedia,',\n",
              " 'created',\n",
              " 'and',\n",
              " 'edited',\n",
              " 'by',\n",
              " 'volunteers',\n",
              " 'around',\n",
              " 'the',\n",
              " 'world',\n",
              " 'and',\n",
              " 'hosted',\n",
              " 'by',\n",
              " 'the',\n",
              " 'Wikimedia',\n",
              " 'Foundation.']"
            ]
          },
          "metadata": {},
          "execution_count": 3
        }
      ]
    },
    {
      "cell_type": "markdown",
      "source": [
        "# 2 Write a Python code which takes a number and returns a corresponding string of hyphens. For example if the number is 3, it will return '---' , if the number is 5 it will return '-----'"
      ],
      "metadata": {
        "id": "IHrZKvZoz2cA"
      }
    },
    {
      "cell_type": "code",
      "source": [
        "num=int(input(\"Enter How many times you want to print the hypen:\"))\n",
        "def myfun(n):\n",
        " for i in range(0,n):\n",
        "  print(\"-\",end='')\n",
        "myfun(num)"
      ],
      "metadata": {
        "colab": {
          "base_uri": "https://localhost:8080/"
        },
        "id": "aHp-d5Ejz4HH",
        "outputId": "860d6e82-a886-41be-9a32-196a4c3cc126"
      },
      "execution_count": null,
      "outputs": [
        {
          "output_type": "stream",
          "name": "stdout",
          "text": [
            "Enter How many times you want to print the hypen:3\n",
            "---"
          ]
        }
      ]
    },
    {
      "cell_type": "markdown",
      "source": [
        "3.A string can be called a safe bridge if it has no gaps in it i.e, no spaces. You are supposed to take an input from the user and print whether the string is a safe bridge or not."
      ],
      "metadata": {
        "id": "V7TK9mFD1mnC"
      }
    },
    {
      "cell_type": "code",
      "source": [
        "str1=str(input(\"Enter a staing:\"))\n",
        "cunt=str1.find(' ')\n",
        "if cunt>0:\n",
        "          print(\"This string is not safe bridge\")\n",
        "else:\n",
        "         print(\"This string is safe bridge\") \n"
      ],
      "metadata": {
        "colab": {
          "base_uri": "https://localhost:8080/"
        },
        "id": "9dyFjs9b1r-X",
        "outputId": "f42b0718-584b-4d29-c969-ec4d7ec79654"
      },
      "execution_count": null,
      "outputs": [
        {
          "output_type": "stream",
          "name": "stdout",
          "text": [
            "Enter a staing:prasad\n",
            "This string is safe bridge\n"
          ]
        }
      ]
    },
    {
      "cell_type": "markdown",
      "source": [
        "Count the number of D's in a string inputted by the user. This will be case insensitive."
      ],
      "metadata": {
        "id": "leERBTTt3Qbc"
      }
    },
    {
      "cell_type": "code",
      "source": [
        "user_string = 'Debris was scattered all over the yard in the densest region of Denmark'\n",
        "g=user_string.lower()\n",
        "d=g.count('d')\n",
        "print(d)"
      ],
      "metadata": {
        "colab": {
          "base_uri": "https://localhost:8080/"
        },
        "id": "pJOtebD-3SL_",
        "outputId": "d7fd8b35-3807-428e-8f8b-6d3e56f2c4ba"
      },
      "execution_count": null,
      "outputs": [
        {
          "output_type": "stream",
          "name": "stdout",
          "text": [
            "5\n"
          ]
        }
      ]
    },
    {
      "cell_type": "markdown",
      "source": [
        "Check whether a given string is a palindrome. A palindrome is a word, number, phrase, or other sequence of characters which reads the same backward as forward, such as madam, racecar."
      ],
      "metadata": {
        "id": "49PXc7l95H8p"
      }
    },
    {
      "cell_type": "code",
      "source": [
        "str1= str(input(\"Enter string:\"))\n",
        "if str1==str1[::-1]:\n",
        "                    print(\"String is palindrome\")\n",
        "else: \n",
        "                 print(\"String is  not palindrome\")"
      ],
      "metadata": {
        "colab": {
          "base_uri": "https://localhost:8080/"
        },
        "id": "Z4kDlyVH5KW_",
        "outputId": "792a43aa-6208-4f1c-9f69-a2ac7ea29725"
      },
      "execution_count": null,
      "outputs": [
        {
          "output_type": "stream",
          "name": "stdout",
          "text": [
            "Enter string:madam\n",
            "String is palindrome\n"
          ]
        }
      ]
    },
    {
      "cell_type": "code",
      "source": [
        "\n"
      ],
      "metadata": {
        "id": "eZjpMOO67dLZ"
      },
      "execution_count": null,
      "outputs": []
    },
    {
      "cell_type": "markdown",
      "source": [],
      "metadata": {
        "id": "8PKJ5_KSx5jc"
      }
    }
  ]
}