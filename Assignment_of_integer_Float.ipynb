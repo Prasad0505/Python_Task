{
  "nbformat": 4,
  "nbformat_minor": 0,
  "metadata": {
    "colab": {
      "provenance": [],
      "authorship_tag": "ABX9TyN5lQ7Qcztz2FvfengxoiSI",
      "include_colab_link": true
    },
    "kernelspec": {
      "name": "python3",
      "display_name": "Python 3"
    },
    "language_info": {
      "name": "python"
    }
  },
  "cells": [
    {
      "cell_type": "markdown",
      "metadata": {
        "id": "view-in-github",
        "colab_type": "text"
      },
      "source": [
        "<a href=\"https://colab.research.google.com/github/Prasad0505/Python_Task/blob/main/Assignment_of_integer_Float.ipynb\" target=\"_parent\"><img src=\"https://colab.research.google.com/assets/colab-badge.svg\" alt=\"Open In Colab\"/></a>"
      ]
    },
    {
      "cell_type": "markdown",
      "source": [
        "Problem 1\n",
        "In a cricket tournament, based on the outcome of a particular match a team gets following points:\n",
        "\n",
        "wins gets 3 points\n",
        "draws gets 1 points\n",
        "losses gets 0 points\n",
        "Team Aravali plays 8 matches in this tournament. It wins 4 matches, loses 3 matches and draws 1. What is the total number of points gained by the Team Aravali?"
      ],
      "metadata": {
        "id": "cMgLLWlzT3IT"
      }
    },
    {
      "cell_type": "code",
      "source": [
        "# The outcome variables are defined below\n",
        "wins = 4\n",
        "losses = 3\n",
        "draws = 1\n",
        "# Calculate the total points gained by Team Aravali\n",
        "aravali_points = wins*3+draws*1+losses*0\n",
        "aravali_points"
      ],
      "metadata": {
        "colab": {
          "base_uri": "https://localhost:8080/"
        },
        "id": "87rvne8JT7Pj",
        "outputId": "16a3b24f-6369-47ec-aadc-fd0efc146514"
      },
      "execution_count": null,
      "outputs": [
        {
          "output_type": "execute_result",
          "data": {
            "text/plain": [
              "13"
            ]
          },
          "metadata": {},
          "execution_count": 2
        }
      ]
    },
    {
      "cell_type": "markdown",
      "source": [
        "Problem 2\n",
        "Root of a function  is defined as the value  where \n",
        "Consider a quadratic function \n",
        "Find the value of the function  at points ."
      ],
      "metadata": {
        "id": "VjSYESkKWsNw"
      }
    },
    {
      "cell_type": "code",
      "source": [
        "\n",
        "x=int(input(\"Enter value of x:\"))\n",
        "ans=x^2+3*x-4\n",
        "ans"
      ],
      "metadata": {
        "colab": {
          "base_uri": "https://localhost:8080/"
        },
        "id": "HP4BGsRtWrtf",
        "outputId": "cbf0ad87-ddb2-410f-ff3f-a2f92ad6f06e"
      },
      "execution_count": null,
      "outputs": [
        {
          "name": "stdout",
          "output_type": "stream",
          "text": [
            "Enter value of x:2\n"
          ]
        },
        {
          "output_type": "execute_result",
          "data": {
            "text/plain": [
              "6"
            ]
          },
          "metadata": {},
          "execution_count": 12
        }
      ]
    },
    {
      "cell_type": "code",
      "source": [
        "x=int(input(\"Enter value of x:\"))\n",
        "ans1=x^2+3*x-4\n",
        "ans1"
      ],
      "metadata": {
        "colab": {
          "base_uri": "https://localhost:8080/"
        },
        "id": "o2rd87jFXa_6",
        "outputId": "0dd129e6-d82f-431f-c488-f8f8752d47c1"
      },
      "execution_count": null,
      "outputs": [
        {
          "name": "stdout",
          "output_type": "stream",
          "text": [
            "Enter value of x:-1\n"
          ]
        },
        {
          "output_type": "execute_result",
          "data": {
            "text/plain": [
              "4"
            ]
          },
          "metadata": {},
          "execution_count": 7
        }
      ]
    },
    {
      "cell_type": "code",
      "source": [
        "x=int(input(\"Enter value of x:\"))\n",
        "ans2=x^2+3*x-4\n",
        "ans2"
      ],
      "metadata": {
        "colab": {
          "base_uri": "https://localhost:8080/"
        },
        "id": "-NCrlCgOXag_",
        "outputId": "88740c79-9696-4e7f-ffc3-31e46dc3df94"
      },
      "execution_count": null,
      "outputs": [
        {
          "name": "stdout",
          "output_type": "stream",
          "text": [
            "Enter value of x:1\n"
          ]
        },
        {
          "output_type": "execute_result",
          "data": {
            "text/plain": [
              "0"
            ]
          },
          "metadata": {},
          "execution_count": 8
        }
      ]
    },
    {
      "cell_type": "code",
      "source": [
        "# Check whether 2 is a root of f(x)\n",
        "print(ans==0)\n",
        "# Check whether -1 is a root of f(x)\n",
        "print(ans1==0)\n",
        "# Check whether 1 is a root of f(x)\n",
        "print(ans2==0)"
      ],
      "metadata": {
        "colab": {
          "base_uri": "https://localhost:8080/"
        },
        "id": "TeXz-QnoYopS",
        "outputId": "1380bd2e-7761-479e-b1f8-894313e4fe85"
      },
      "execution_count": null,
      "outputs": [
        {
          "output_type": "stream",
          "name": "stdout",
          "text": [
            "False\n",
            "False\n",
            "True\n"
          ]
        }
      ]
    },
    {
      "cell_type": "markdown",
      "source": [
        "Problem 3\n",
        "A bag contains 45 apples, 65 oranges and 30 bananas. Find the percentage of each type of food items in the bag.\n",
        "\n"
      ],
      "metadata": {
        "id": "ty1_nJU0ZiZU"
      }
    },
    {
      "cell_type": "code",
      "source": [
        "from traitlets.config.application import Application\n",
        "# Calculate the percentage of apples and print the variable\n",
        "Apple_per=(45/140)*100\n",
        "print(Apple_per)\n",
        "# Calculate the percentage of oranges and print the variable\n",
        "orange_per=(65/140)*100\n",
        "print(orange_per)\n",
        " #Calculate the percentage of bananas and print the variable\n",
        "bananas_per=(30/140)*100\n",
        "print(bananas_per)"
      ],
      "metadata": {
        "colab": {
          "base_uri": "https://localhost:8080/"
        },
        "id": "p6sy9IsiZ-yw",
        "outputId": "076a9cc8-dcf8-4a4b-ff59-121cfa8a87d9"
      },
      "execution_count": null,
      "outputs": [
        {
          "output_type": "stream",
          "name": "stdout",
          "text": [
            "32.142857142857146\n",
            "46.42857142857143\n",
            "21.428571428571427\n"
          ]
        }
      ]
    },
    {
      "cell_type": "markdown",
      "source": [
        "Problem 4\n",
        "\n",
        "You were playing a fun guessing game during your school break. There were a total of 100 participants excluding you. Out of these 100 people, 30 were Maths Majors, 45 were Economics Majors and 25 were Physics Majors.\n",
        "\n",
        "The game was divided into three rounds.\n",
        "\n",
        "In the first round, you had to guess the number of Maths Majors and you correctly guessed 20 of them.\n",
        "\n",
        "In the second round, you had to guess the number of Economics Majors and you correctly guessed 30 of them.\n",
        "\n",
        "In the final third round, you had to guess the number of Physics Majors and you correctly guessed 20 of them.\n",
        "\n",
        "Accuracy is defined as the number of correct guesses upon total number of people in the group (expressed in percentage)"
      ],
      "metadata": {
        "id": "URQirEQ4bTmy"
      }
    },
    {
      "cell_type": "code",
      "source": [
        "# Store the number of Maths majors\n",
        "maths_major=30\n",
        "\n",
        "# Store the number of Economics majors\n",
        "eco_major=45\n",
        "\n",
        "# Store the number of Physics majors\n",
        "phy_major=25\n",
        "\n",
        "# Store the number of your correct guesses of Maths majors\n",
        "correct_maths_major=20\n",
        "\n",
        "# Store the number of your correct guesses of Economics majors\n",
        "correct_eco_major=30\n",
        "\n",
        "# Store the number of your correct guesses of Physics majors\n",
        "correct_phy_major=20"
      ],
      "metadata": {
        "id": "jVxd4VMWbaL-"
      },
      "execution_count": null,
      "outputs": []
    },
    {
      "cell_type": "code",
      "source": [
        "# Print the Maths accuracy\n",
        "math_acc=(correct_maths_major/maths_major)*100\n",
        "print(math_acc)\n",
        "# Print the Economics accuracy\n",
        "eco_acc=(correct_eco_major/eco_major)*100\n",
        "print(eco_acc)\n",
        "# Print the Physics accuracy\n",
        "phy_acc=(correct_phy_major/phy_major)*100\n",
        "print(phy_acc)"
      ],
      "metadata": {
        "colab": {
          "base_uri": "https://localhost:8080/"
        },
        "id": "BzO0Gg4wmVwO",
        "outputId": "f5e80215-32a3-4858-e788-5c7ab374ee4f"
      },
      "execution_count": null,
      "outputs": [
        {
          "output_type": "stream",
          "name": "stdout",
          "text": [
            "66.66666666666666\n",
            "66.66666666666666\n",
            "80.0\n"
          ]
        }
      ]
    },
    {
      "cell_type": "code",
      "source": [
        "total_acc=(math_acc+eco_acc+phy_acc)/3\n",
        "total_acc"
      ],
      "metadata": {
        "colab": {
          "base_uri": "https://localhost:8080/"
        },
        "id": "4cSIrmM6nRQD",
        "outputId": "f7cb5e19-988f-4267-df76-9803a706b805"
      },
      "execution_count": null,
      "outputs": [
        {
          "output_type": "execute_result",
          "data": {
            "text/plain": [
              "71.1111111111111"
            ]
          },
          "metadata": {},
          "execution_count": 24
        }
      ]
    }
  ]
}